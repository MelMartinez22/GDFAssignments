{
 "cells": [
  {
   "cell_type": "code",
   "execution_count": null,
   "metadata": {},
   "outputs": [],
   "source": [
    "%%html\n",
    "<style type=\"text/css\">\n",
    "  span.ecb { background: yellow; }\n",
    "</style>"
   ]
  },
  {
   "cell_type": "code",
   "execution_count": null,
   "metadata": {},
   "outputs": [],
   "source": []
  },
  {
   "cell_type": "markdown",
   "metadata": {},
   "source": [
    "<span class=\"ecb\">Grading comments by ECB will be highlighted like this.</span>\n",
    "\n",
    "<span class=\"ecb\">Total 63/70</span>"
   ]
  },
  {
   "cell_type": "markdown",
   "metadata": {
    "tags": []
   },
   "source": [
    "# ATMO 5331 - Homework 1 - Fall 2025\n",
    "## Due 12 Sep 2025, 11:59 pm.\n",
    "\n",
    "When doing this homework, remember that you have two jobs:\n",
    "1. Make it work.\n",
    "2. Clean it up so that I can understand what you've done. If you think I might not understand, document it with a comment or a function docstring.\n",
    "\n",
    "You should present your work with a clear logical progression. If that seems like a hassle, remember that in doing so you are practicing skills that are expected in your thesis and journal publications.\n",
    "\n",
    "You may work alone or in groups of up to 3. I will not be adjudicating relative level of effort in group work, so you are responsible for ensuring there is an even contribution by your partner."
   ]
  },
  {
   "cell_type": "code",
   "execution_count": 1,
   "metadata": {},
   "outputs": [],
   "source": [
    "# Melodie Martinez\n",
    "%matplotlib inline\n",
    "import matplotlib.pyplot as plt"
   ]
  },
  {
   "cell_type": "code",
   "execution_count": 2,
   "metadata": {},
   "outputs": [],
   "source": [
    "import numpy as np\n",
    "\n",
    "mcom_lon, mcom_lat = -101.8803718553, 33.5818617015\n",
    "mcom_alt = 957.179"
   ]
  },
  {
   "cell_type": "markdown",
   "metadata": {},
   "source": [
    "**1.** Create the 1D arrays `lon` and `lat`, centered on MCOM and incrementing by 5 degrees. There should be 7 longitude and 5 latitude values. (10 pts.)\n",
    "\n",
    "The sample code also includes data array `d` with the shape (`nlat`, `nlon`), and defines some values so that we all have the same dataset. A plot of the data array in index coordintes is also included.\n",
    "\n",
    "Together these arrays define the grid cell center locations and corresponding data values."
   ]
  },
  {
   "cell_type": "code",
   "execution_count": 3,
   "metadata": {},
   "outputs": [
    {
     "name": "stdout",
     "output_type": "stream",
     "text": [
      "[-116.88037186 -111.88037186 -106.88037186 -101.88037186  -96.88037186\n",
      "  -91.88037186  -86.88037186]\n",
      "[23.5818617 28.5818617 33.5818617 38.5818617 43.5818617]\n"
     ]
    },
    {
     "data": {
      "image/png": "[encoded data removed]",
      "text/plain": [
       "<Figure size 432x288 with 2 Axes>"
      ]
     },
     "metadata": {
      "needs_background": "light"
     },
     "output_type": "display_data"
    }
   ],
   "source": [
    "nlon = 7\n",
    "nlat = 5\n",
    "dlon, dlat = 5.0, 5.0\n",
    "\n",
    "d = (np.arange(nlon*nlat) - (nlon*nlat/2.0))**2.0\n",
    "d.shape = (nlat, nlon)\n",
    "\n",
    "fig = plt.figure()\n",
    "ax = fig.add_subplot(111)\n",
    "im = ax.imshow(d, origin='lower')\n",
    "plt.colorbar(im)\n",
    "ax.set_xlabel('x index')\n",
    "ax.set_ylabel('y index')\n",
    "\n",
    "lon = mcom_lon + (np.arange(nlon) - nlon // 2) * dlon    # 33°34'54.9\"N 101°52'51.2\"W FIX THIS\n",
    "lat = mcom_lat + (np.arange(nlat) - nlat // 2) * dlat\n",
    "\n",
    "print(lon)\n",
    "print(lat)"
   ]
  },
  {
   "cell_type": "markdown",
   "metadata": {},
   "source": [
    "**2.** Since the image is regularly gridded in lon/lat We can use the `extent` keyword argument to `imshow` to specify the bounds of the image, as you see below. Is this plot correct or incorrect? Explain how the `extent` keyword argument works using the language of centers, edges, and nodes. (10 pts.)\n",
    "\n",
    "`print(ax.axis())` might be useful in understanding what you are seeing."
   ]
  },
  {
   "cell_type": "code",
   "execution_count": 4,
   "metadata": {},
   "outputs": [
    {
     "name": "stdout",
     "output_type": "stream",
     "text": [
      "(-116.8803718553, -86.8803718553, 23.581861701500003, 43.5818617015)\n"
     ]
    },
    {
     "data": {
      "image/png": "[encoded data removed]",
      "text/plain": [
       "<Figure size 432x288 with 2 Axes>"
      ]
     },
     "metadata": {
      "needs_background": "light"
     },
     "output_type": "display_data"
    }
   ],
   "source": [
    "# Computing extent using pixel edges\n",
    "extent = (lon.min() - dlon / 2, lon.max() + dlon / 2, lat.min() - dlat / 2, lat.max() + dlat / 2)\n",
    "\n",
    "# Extent tells imshow where the edges of the image lie, not the center! \n",
    "# This helps to align the image correclty with any overlaying images\n",
    "# The plot would be incorrect if extent is using lon.min() and lon.max() as a pixel center and won't be aligned correctly\n",
    "# Centers: where the pixel's value is defined\n",
    "# Edges: Boundaries between the pixels (extent)\n",
    "# Nodes: Centers in structured grids\n",
    "# The correct plot would be when extent is calculated from using edges, not centers\n",
    "\n",
    "fig = plt.figure()\n",
    "ax = fig.add_subplot(111)\n",
    "\n",
    "im = ax.imshow(d, origin='lower', extent=(lon.min(), lon.max(), lat.min(), lat.max()))\n",
    "plt.colorbar(im)\n",
    "ax.scatter(mcom_lon, mcom_lat, marker='x', color='red')\n",
    "ax.set_xlabel('longitude (degrees)')\n",
    "ax.set_ylabel('latitude (degrees)')\n",
    "print(ax.axis())"
   ]
  },
  {
   "cell_type": "markdown",
   "metadata": {},
   "source": [
    "ANSWER: No, it is not correct"
   ]
  },
  {
   "cell_type": "markdown",
   "metadata": {},
   "source": [
    "<span class=\"ecb\">-3: explanation?</span>"
   ]
  },
  {
   "cell_type": "markdown",
   "metadata": {},
   "source": [
    "**3.** Write a function that converts 1D center positions to edge positions. The function should calculate the grid spacing using only the information in the variable `x`. Use the closest adjacent spacing to extend the start and end of the array. Use this function to create two arrays `lat_edge` and `lon_edge` and print their values. Is the new figure created with `imshow` correct? Explain your answer. (20 pts.)"
   ]
  },
  {
   "cell_type": "code",
   "execution_count": 5,
   "metadata": {},
   "outputs": [
    {
     "name": "stdout",
     "output_type": "stream",
     "text": [
      "[-119.38037186 -114.38037186 -109.38037186 -104.38037186  -99.38037186\n",
      "  -94.38037186  -89.38037186  -84.38037186]\n",
      "[21.0818617 26.0818617 31.0818617 36.0818617 41.0818617 46.0818617]\n"
     ]
    },
    {
     "data": {
      "text/plain": [
       "Text(0, 0.5, 'latitude (degrees)')"
      ]
     },
     "execution_count": 5,
     "metadata": {},
     "output_type": "execute_result"
    },
    {
     "data": {
      "image/png": "[encoded data removed]",
      "text/plain": [
       "<Figure size 432x288 with 2 Axes>"
      ]
     },
     "metadata": {
      "needs_background": "light"
     },
     "output_type": "display_data"
    }
   ],
   "source": [
    "def centers_to_edges_1d(x):\n",
    "    \"\"\"Creating function for converting 1D array to edge positions.\"\"\"\n",
    "    x= np.asarray(x)\n",
    "    dx= np.diff(x)\n",
    "    \n",
    "    start= x[0]-dx[0]/2    # Fixing edge positons using closest spacing\n",
    "    end= x[-1]+dx[-1]/2\n",
    "    \n",
    "    edges= x[:-1]+dx/2    # midpoints between each center for the inside edges\n",
    "    return np.concatenate([[start], edges, [end]]) #concatenating start, internal edges, and the end\n",
    "\n",
    "lon_edge = centers_to_edges_1d(lon)\n",
    "lat_edge = centers_to_edges_1d(lat)\n",
    "print(lon_edge)\n",
    "print(lat_edge)\n",
    "\n",
    "#redoing and shifting the edges of the lat and lon\n",
    "im= ax.imshow(d, origin= 'lower', extent= (lon_edge.min(), lon_edge.max(), lat_edge.min(), lat_edge.max()))\n",
    "\n",
    "fig = plt.figure()\n",
    "ax = fig.add_subplot(111)\n",
    "im = ax.imshow(d, origin='lower', extent=(lon_edge.min(), lon_edge.max(), lat_edge.min(), lat_edge.max()))\n",
    "plt.colorbar(im)\n",
    "ax.scatter(mcom_lon, mcom_lat, marker='x', color='red')\n",
    "ax.set_xlabel('longitude (degrees)')\n",
    "ax.set_ylabel('latitude (degrees)')"
   ]
  },
  {
   "cell_type": "markdown",
   "metadata": {},
   "source": [
    "<span class=\"ecb\">Explanation? -4</span>"
   ]
  },
  {
   "cell_type": "markdown",
   "metadata": {},
   "source": [
    "**4.** `imshow` works for the data so far because we have a regular grid with even spacing, so we only need to specify the corners. For a more general quadrilateral mesh, we can use `pcolormesh` to create a similar plot. \n",
    "\n",
    "Read the [documentation for pcolormesh](https://matplotlib.org/stable/api/_as_gen/matplotlib.pyplot.pcolormesh.html) and choose the correct `shading` method for the dataset when the \"centers\" and \"edges\" locationns are specified.\n",
    "\n",
    "What is the rule you used to select the keyword argument?"
   ]
  },
  {
   "cell_type": "code",
   "execution_count": 6,
   "metadata": {},
   "outputs": [
    {
     "data": {
      "text/plain": [
       "Text(0, 0.5, 'latitude (degrees)')"
      ]
     },
     "execution_count": 6,
     "metadata": {},
     "output_type": "execute_result"
    },
    {
     "data": {
      "image/png": "[encoded data removed]",
      "text/plain": [
       "<Figure size 432x288 with 2 Axes>"
      ]
     },
     "metadata": {
      "needs_background": "light"
     },
     "output_type": "display_data"
    },
    {
     "data": {
      "image/png": "[encoded data removed]",
      "text/plain": [
       "<Figure size 432x288 with 2 Axes>"
      ]
     },
     "metadata": {
      "needs_background": "light"
     },
     "output_type": "display_data"
    }
   ],
   "source": [
    "# Here, set the keyword argument `shading` that will be passed to pcolormesh. You may not choose 'auto'.\n",
    "centers_shading = 'nearest'\n",
    "edges_shading = 'flat'\n",
    "\n",
    "\n",
    "fig = plt.figure()\n",
    "ax = fig.add_subplot(111)\n",
    "im = ax.pcolormesh(lon, lat, d, shading=centers_shading)\n",
    "plt.colorbar(im)\n",
    "ax.scatter(mcom_lon, mcom_lat, marker='x', color='red')\n",
    "ax.set_xlabel('longitude (degrees)')\n",
    "ax.set_ylabel('latitude (degrees)')\n",
    "\n",
    "\n",
    "fig = plt.figure()\n",
    "ax = fig.add_subplot(111)\n",
    "im = ax.pcolormesh(lon_edge, lat_edge, d, shading=edges_shading)\n",
    "plt.colorbar(im)\n",
    "ax.scatter(mcom_lon, mcom_lat, marker='x', color='red')\n",
    "ax.set_xlabel('longitude (degrees)')\n",
    "ax.set_ylabel('latitude (degrees)')"
   ]
  },
  {
   "cell_type": "markdown",
   "metadata": {},
   "source": [
    "ANSWER: For pcolormesh, if the coordinate arrays are the same shape as the data that represent centers, we need to use \"nearest\" in our code. On the other hand, if the arrays are one element larger than the data for the edges, then we need to use \"flat\" in the code. \n",
    "\n",
    "For \"nearest\": Each grid point will have a color centered on it, extending halfway between the adjacent grid centers. The dimensions of X and Y must be the same as C.\n",
    "For \"flat\": The dimensions of X and Y should be one greater than those of C; if they are the same as C, then a deprecation warning is raised, and the last row and column of C are dropped."
   ]
  },
  {
   "cell_type": "markdown",
   "metadata": {},
   "source": [
    "**5.** So far, you have used 1D coordinate arrays, and things worked fine because the data were regularly gridded. `pcolormesh` will also accept 2D coordinate arrays. The function `np.meshgrid` creates 2D arrays from 1D arrays. Use `meshgrid` to create these 2D coordinate arrays and use them to make a plot of the data using `pcolormesh`. It should match the correct plot(s) above (20 pts.).\n",
    "\n",
    "Since you have them, use the \"edges\" version of your locations."
   ]
  },
  {
   "cell_type": "code",
   "execution_count": 7,
   "metadata": {},
   "outputs": [],
   "source": [
    "# 2D coordinate arrays\n",
    "lon_edge_2d, lat_edge_2d = np.meshgrid(lon_edge, lat_edge, indexing='xy') "
   ]
  },
  {
   "cell_type": "code",
   "execution_count": 8,
   "metadata": {},
   "outputs": [
    {
     "name": "stdout",
     "output_type": "stream",
     "text": [
      "d shape: (5, 7)\n",
      "lat_edge_2d shape: (6, 8)\n",
      "lon_edge_2d shape: (6, 8)\n"
     ]
    },
    {
     "data": {
      "image/png": "[encoded data removed]",
      "text/plain": [
       "<Figure size 432x288 with 2 Axes>"
      ]
     },
     "metadata": {
      "needs_background": "light"
     },
     "output_type": "display_data"
    }
   ],
   "source": [
    "# Printing values\n",
    "print(\"d shape:\", d.shape)\n",
    "print(\"lat_edge_2d shape:\", lat_edge_2d.shape)\n",
    "print(\"lon_edge_2d shape:\", lon_edge_2d.shape)\n",
    "\n",
    "#Plots\n",
    "fig= plt.figure()\n",
    "ax= fig. add_subplot(111)\n",
    "im= ax.pcolormesh(lon_edge_2d, lat_edge_2d, d, shading= 'flat')\n",
    "plt.colorbar(im)\n",
    "ax.scatter(mcom_lon, mcom_lat, marker='x', color='red')\n",
    "ax.set_xlabel('longitude (degrees)')\n",
    "ax.set_ylabel('latitude (degrees)')\n",
    "plt.show()"
   ]
  },
  {
   "cell_type": "code",
   "execution_count": null,
   "metadata": {},
   "outputs": [],
   "source": []
  }
 ],
 "metadata": {
  "kernelspec": {
   "display_name": "Python [conda env:atmo5331]",
   "language": "python",
   "name": "conda-env-atmo5331-py"
  },
  "language_info": {
   "codemirror_mode": {
    "name": "ipython",
    "version": 3
   },
   "file_extension": ".py",
   "mimetype": "text/x-python",
   "name": "python",
   "nbconvert_exporter": "python",
   "pygments_lexer": "ipython3",
   "version": "3.10.18"
  }
 },
 "nbformat": 4,
 "nbformat_minor": 4
}
